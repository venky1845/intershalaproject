{
  "nbformat": 4,
  "nbformat_minor": 0,
  "metadata": {
    "colab": {
      "provenance": [],
      "authorship_tag": "ABX9TyOXUO4whx6Bo7NyyFIuYhry",
      "include_colab_link": true
    },
    "kernelspec": {
      "name": "python3",
      "display_name": "Python 3"
    },
    "language_info": {
      "name": "python"
    }
  },
  "cells": [
    {
      "cell_type": "markdown",
      "metadata": {
        "id": "view-in-github",
        "colab_type": "text"
      },
      "source": [
        "<a href=\"https://colab.research.google.com/github/venky1845/intershalaproject/blob/main/Untitled4.ipynb\" target=\"_parent\"><img src=\"https://colab.research.google.com/assets/colab-badge.svg\" alt=\"Open In Colab\"/></a>"
      ]
    },
    {
      "cell_type": "code",
      "execution_count": 2,
      "metadata": {
        "colab": {
          "base_uri": "https://localhost:8080/"
        },
        "id": "AcOdSdl-bjFs",
        "outputId": "c4d5e44e-50b9-47ce-8d39-11f737358587"
      },
      "outputs": [
        {
          "output_type": "stream",
          "name": "stdout",
          "text": [
            "Requirement already satisfied: requests in /usr/local/lib/python3.11/dist-packages (2.32.3)\n",
            "Requirement already satisfied: biopython in /usr/local/lib/python3.11/dist-packages (1.85)\n",
            "Requirement already satisfied: pandas in /usr/local/lib/python3.11/dist-packages (2.2.2)\n",
            "Requirement already satisfied: charset-normalizer<4,>=2 in /usr/local/lib/python3.11/dist-packages (from requests) (3.4.1)\n",
            "Requirement already satisfied: idna<4,>=2.5 in /usr/local/lib/python3.11/dist-packages (from requests) (3.10)\n",
            "Requirement already satisfied: urllib3<3,>=1.21.1 in /usr/local/lib/python3.11/dist-packages (from requests) (2.3.0)\n",
            "Requirement already satisfied: certifi>=2017.4.17 in /usr/local/lib/python3.11/dist-packages (from requests) (2024.12.14)\n",
            "Requirement already satisfied: numpy in /usr/local/lib/python3.11/dist-packages (from biopython) (1.26.4)\n",
            "Requirement already satisfied: python-dateutil>=2.8.2 in /usr/local/lib/python3.11/dist-packages (from pandas) (2.8.2)\n",
            "Requirement already satisfied: pytz>=2020.1 in /usr/local/lib/python3.11/dist-packages (from pandas) (2024.2)\n",
            "Requirement already satisfied: tzdata>=2022.7 in /usr/local/lib/python3.11/dist-packages (from pandas) (2025.1)\n",
            "Requirement already satisfied: six>=1.5 in /usr/local/lib/python3.11/dist-packages (from python-dateutil>=2.8.2->pandas) (1.17.0)\n"
          ]
        }
      ],
      "source": [
        "# Install required libraries\n",
        "!pip install requests biopython pandas\n",
        "\n"
      ]
    },
    {
      "cell_type": "code",
      "source": [
        "import requests\n",
        "from Bio import Entrez, Medline\n",
        "import pandas as pd\n",
        "from google.colab import files"
      ],
      "metadata": {
        "id": "qiWoB4RwbkAD"
      },
      "execution_count": 3,
      "outputs": []
    },
    {
      "cell_type": "code",
      "source": [
        "Entrez.email = \"your_email@example.com\""
      ],
      "metadata": {
        "id": "yPusIjRHcizf"
      },
      "execution_count": 4,
      "outputs": []
    },
    {
      "cell_type": "code",
      "source": [
        "def fetch_pubmed_data(query, max_results=100):\n",
        "    handle = Entrez.esearch(db=\"pubmed\", term=query, retmax=max_results)\n",
        "    record = Entrez.read(handle)\n",
        "    handle.close()\n",
        "    pubmed_ids = record[\"IdList\"]\n",
        "\n",
        "    papers = []\n",
        "    for pubmed_id in pubmed_ids:\n",
        "        handle = Entrez.efetch(db=\"pubmed\", id=pubmed_id, rettype=\"medline\", retmode=\"text\")\n",
        "        records = Medline.parse(handle)\n",
        "\n",
        "        for record in records:\n",
        "            # Extract key attributes and handle missing data\n",
        "            paper = {\n",
        "                \"PubmedID\": pubmed_id,\n",
        "                \"Title\": record.get(\"TI\", \"N/A\"),\n",
        "                \"Publication Date\": record.get(\"DP\", \"N/A\"),\n",
        "                \"Authors\": record.get(\"AU\", []),\n",
        "                \"Corresponding Author Email\": record.get(\"AD\", \"N/A\"),\n",
        "            }\n",
        "\n",
        "            # Extract non-academic authors and company affiliations\n",
        "            non_academic_authors, company_affiliations = extract_company_affiliations(record.get(\"AU\", []))\n",
        "            paper[\"Non-academic Author(s)\"] = \"; \".join(non_academic_authors)\n",
        "            paper[\"Company Affiliation(s)\"] = \"; \".join(company_affiliations)\n",
        "\n",
        "            papers.append(paper)\n",
        "        handle.close()\n",
        "\n",
        "    return papers"
      ],
      "metadata": {
        "id": "lLw6SDOLcmMy"
      },
      "execution_count": 6,
      "outputs": []
    },
    {
      "cell_type": "code",
      "source": [
        "def extract_company_affiliations(authors):\n",
        "    non_academic_authors = []\n",
        "    company_affiliations = []\n",
        "\n",
        "    for author in authors:\n",
        "        if \"Inc\" in author or \"Ltd\" in author or \"Corp\" in author or \"Pharma\" in author:\n",
        "            company_affiliations.append(author)\n",
        "        else:\n",
        "            non_academic_authors.append(author)\n",
        "\n",
        "    return non_academic_authors, company_affiliations"
      ],
      "metadata": {
        "id": "V7639sAdcraw"
      },
      "execution_count": 7,
      "outputs": []
    },
    {
      "cell_type": "code",
      "source": [
        "def save_to_csv_and_download(papers, output_file=\"pubmed_results.csv\"):\n",
        "    df = pd.DataFrame(papers)\n",
        "    df.to_csv(output_file, index=False)\n",
        "    print(f\"Data saved to {output_file}\")\n",
        "    files.download(output_file)  # Trigger download in Colab"
      ],
      "metadata": {
        "id": "3lpXELzsc20R"
      },
      "execution_count": 8,
      "outputs": []
    },
    {
      "cell_type": "code",
      "source": [
        "if __name__ == \"__main__\":\n",
        "    # Replace with your query\n",
        "    query = \"cancer immunotherapy[tiab] AND 2022:2023[dp]\"\n",
        "    max_results = 50  # Limit results to 50 for this example\n",
        "\n",
        "    print(\"Fetching data from PubMed...\")\n",
        "    papers = fetch_pubmed_data(query, max_results)\n",
        "\n",
        "    print(\"Saving results to CSV...\")\n",
        "    save_to_csv_and_download(papers)"
      ],
      "metadata": {
        "colab": {
          "base_uri": "https://localhost:8080/",
          "height": 72
        },
        "id": "qSJUPDWUc9M4",
        "outputId": "fabd401e-c1e2-4fd3-9689-521e4bb21a95"
      },
      "execution_count": 9,
      "outputs": [
        {
          "output_type": "stream",
          "name": "stdout",
          "text": [
            "Fetching data from PubMed...\n",
            "Saving results to CSV...\n",
            "Data saved to pubmed_results.csv\n"
          ]
        },
        {
          "output_type": "display_data",
          "data": {
            "text/plain": [
              "<IPython.core.display.Javascript object>"
            ],
            "application/javascript": [
              "\n",
              "    async function download(id, filename, size) {\n",
              "      if (!google.colab.kernel.accessAllowed) {\n",
              "        return;\n",
              "      }\n",
              "      const div = document.createElement('div');\n",
              "      const label = document.createElement('label');\n",
              "      label.textContent = `Downloading \"${filename}\": `;\n",
              "      div.appendChild(label);\n",
              "      const progress = document.createElement('progress');\n",
              "      progress.max = size;\n",
              "      div.appendChild(progress);\n",
              "      document.body.appendChild(div);\n",
              "\n",
              "      const buffers = [];\n",
              "      let downloaded = 0;\n",
              "\n",
              "      const channel = await google.colab.kernel.comms.open(id);\n",
              "      // Send a message to notify the kernel that we're ready.\n",
              "      channel.send({})\n",
              "\n",
              "      for await (const message of channel.messages) {\n",
              "        // Send a message to notify the kernel that we're ready.\n",
              "        channel.send({})\n",
              "        if (message.buffers) {\n",
              "          for (const buffer of message.buffers) {\n",
              "            buffers.push(buffer);\n",
              "            downloaded += buffer.byteLength;\n",
              "            progress.value = downloaded;\n",
              "          }\n",
              "        }\n",
              "      }\n",
              "      const blob = new Blob(buffers, {type: 'application/binary'});\n",
              "      const a = document.createElement('a');\n",
              "      a.href = window.URL.createObjectURL(blob);\n",
              "      a.download = filename;\n",
              "      div.appendChild(a);\n",
              "      a.click();\n",
              "      div.remove();\n",
              "    }\n",
              "  "
            ]
          },
          "metadata": {}
        },
        {
          "output_type": "display_data",
          "data": {
            "text/plain": [
              "<IPython.core.display.Javascript object>"
            ],
            "application/javascript": [
              "download(\"download_587b5679-3f23-456d-acca-2c7cf590edd1\", \"pubmed_results.csv\", 82893)"
            ]
          },
          "metadata": {}
        }
      ]
    },
    {
      "cell_type": "code",
      "source": [],
      "metadata": {
        "id": "sCpe51ypdArk"
      },
      "execution_count": null,
      "outputs": []
    }
  ]
}